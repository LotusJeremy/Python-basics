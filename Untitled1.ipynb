{
 "cells": [
  {
   "cell_type": "markdown",
   "id": "fe81a147",
   "metadata": {},
   "source": [
    "# AGE CALCULATOR WITH ZODIAC SIGN\n",
    "\n",
    "Calculate your age and know your zodiac sign using this calculator"
   ]
  },
  {
   "cell_type": "code",
   "execution_count": 4,
   "id": "063afb91",
   "metadata": {},
   "outputs": [
    {
     "name": "stdout",
     "output_type": "stream",
     "text": [
      "enter the current year2022\n",
      "enter your day of birth6\n",
      "enter your month of bith6\n",
      "enter your year of birth1997\n",
      "you are25years old\n"
     ]
    }
   ],
   "source": [
    "y = int(input(\"enter the current year\"))\n",
    "d = int(input(\"enter your day of birth\"))\n",
    "m = int(input(\"enter your month of bith\"))\n",
    "by = int(input(\"enter your year of birth\"))\n",
    "\n",
    "age = y - by\n",
    "print(\"you are\"   +  str(age)  +   \"years old\")\n",
    "\n",
    "\n"
   ]
  }
 ],
 "metadata": {
  "kernelspec": {
   "display_name": "Python 3 (ipykernel)",
   "language": "python",
   "name": "python3"
  },
  "language_info": {
   "codemirror_mode": {
    "name": "ipython",
    "version": 3
   },
   "file_extension": ".py",
   "mimetype": "text/x-python",
   "name": "python",
   "nbconvert_exporter": "python",
   "pygments_lexer": "ipython3",
   "version": "3.9.12"
  }
 },
 "nbformat": 4,
 "nbformat_minor": 5
}
