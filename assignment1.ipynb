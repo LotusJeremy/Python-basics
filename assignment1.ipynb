{
 "cells": [
  {
   "cell_type": "markdown",
   "id": "4be8ac19",
   "metadata": {},
   "source": [
    "  # CALCULATOR #"
   ]
  },
  {
   "cell_type": "code",
   "execution_count": 10,
   "id": "c51c859c",
   "metadata": {},
   "outputs": [
    {
     "name": "stdout",
     "output_type": "stream",
     "text": [
      "enter a number6\n",
      "enter another number5\n"
     ]
    },
    {
     "ename": "NameError",
     "evalue": "name 'opr' is not defined",
     "output_type": "error",
     "traceback": [
      "\u001b[1;31m---------------------------------------------------------------------------\u001b[0m",
      "\u001b[1;31mNameError\u001b[0m                                 Traceback (most recent call last)",
      "Input \u001b[1;32mIn [10]\u001b[0m, in \u001b[0;36m<cell line: 3>\u001b[1;34m()\u001b[0m\n\u001b[0;32m      1\u001b[0m x \u001b[38;5;241m=\u001b[39m \u001b[38;5;28mint\u001b[39m(\u001b[38;5;28minput\u001b[39m(\u001b[38;5;124m\"\u001b[39m\u001b[38;5;124menter a number\u001b[39m\u001b[38;5;124m\"\u001b[39m))\n\u001b[0;32m      2\u001b[0m y \u001b[38;5;241m=\u001b[39m \u001b[38;5;28mint\u001b[39m(\u001b[38;5;28minput\u001b[39m(\u001b[38;5;124m\"\u001b[39m\u001b[38;5;124menter another number\u001b[39m\u001b[38;5;124m\"\u001b[39m))\n\u001b[1;32m----> 3\u001b[0m a \u001b[38;5;241m=\u001b[39m \u001b[43mopr\u001b[49m(\u001b[38;5;28minput\u001b[39m(\u001b[38;5;124m\"\u001b[39m\u001b[38;5;124menter an operator\u001b[39m\u001b[38;5;124m\"\u001b[39m))\n\u001b[0;32m      4\u001b[0m d \u001b[38;5;241m=\u001b[39m x\u001b[38;5;241m+\u001b[39ma\u001b[38;5;241m+\u001b[39my\n\u001b[0;32m      6\u001b[0m \u001b[38;5;66;03m#for addition print only A, for substraction print only S, for multiplication print M, for division print only D\u001b[39;00m\n",
      "\u001b[1;31mNameError\u001b[0m: name 'opr' is not defined"
     ]
    }
   ],
   "source": [
    "x = int(input(\"enter a number\"))\n",
    "y = int(input(\"enter another number\"))\n",
    "a = (input(\"enter an operator\"))\n",
    "d = x+a+y\n",
    "\n",
    "#for addition print only A, for substraction print only S, for multiplication print M, for division print only D\n",
    "print(d)\n"
   ]
  }
 ],
 "metadata": {
  "kernelspec": {
   "display_name": "Python 3 (ipykernel)",
   "language": "python",
   "name": "python3"
  },
  "language_info": {
   "codemirror_mode": {
    "name": "ipython",
    "version": 3
   },
   "file_extension": ".py",
   "mimetype": "text/x-python",
   "name": "python",
   "nbconvert_exporter": "python",
   "pygments_lexer": "ipython3",
   "version": "3.9.12"
  }
 },
 "nbformat": 4,
 "nbformat_minor": 5
}
