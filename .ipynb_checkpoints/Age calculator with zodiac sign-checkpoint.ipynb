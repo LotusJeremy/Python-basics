{
 "cells": [
  {
   "cell_type": "markdown",
   "id": "fe81a147",
   "metadata": {},
   "source": [
    "# AGE CALCULATOR WITH ZODIAC SIGN\n",
    "\n",
    "Calculate your age and know your zodiac sign using this calculator"
   ]
  },
  {
   "cell_type": "code",
   "execution_count": 16,
   "id": "063afb91",
   "metadata": {},
   "outputs": [
    {
     "name": "stdout",
     "output_type": "stream",
     "text": [
      "enter the current year 2022\n",
      "enter your day of birth 22\n",
      "enter your month of birth 10\n",
      "enter your year of birth 1995\n",
      "you are27years old\n",
      "you are Libra\n"
     ]
    }
   ],
   "source": [
    "y = int(input(\"enter the current year \"))\n",
    "d = int(input(\"enter your day of birth \"))\n",
    "m = int(input(\"enter your month of birth \"))\n",
    "by = int(input(\"enter your year of birth \"))\n",
    "\n",
    "age = y - by\n",
    "\n",
    "ms = [1, 2, 3, 4, 5, 6, 7, 8, 9, 10, 11, 12]\n",
    "if m in ms:\n",
    "    if m == 1:\n",
    "        sign = \"you are Capricorn\" if (d < 20) else \"you are Aquarius\"\n",
    "    \n",
    "    elif m == 2:\n",
    "        sign = \"you are Aquarius\" if (d < 19) else \"you are Pisces\"\n",
    "    \n",
    "    elif m == 3:\n",
    "        sign = \"you are Pisces\" if (d < 21) else \"you are Aries\"\n",
    "    \n",
    "    elif m == 4:\n",
    "        sign = \"you are Aries\" if (d < 20) else \"you are Taurus\"\n",
    "    \n",
    "    elif m == 5:\n",
    "        sign = \"you are Taurus\" if (d < 21) else \"you are Gemini\"\n",
    "    \n",
    "    elif m == 6:\n",
    "        sign = \"you are Gemini\" if (d < 21) else \"you are Cancer\"\n",
    "    \n",
    "    elif m == 7:\n",
    "        sign = \"you are Cancer\" if (d < 23) else \"you are Leo\"\n",
    "    elif m == 8:\n",
    "        sign = \"you are Leo\" if (d < 23) else \"you are Virgo\"\n",
    "    \n",
    "    elif m == 9:\n",
    "        sign = \"you are virgo\" if (d < 23) else \"you are Libra\"\n",
    "    \n",
    "    elif m == 10:\n",
    "        sign = \"you are Libra\" if (d < 23) else \"you are Scorpio\"\n",
    "    \n",
    "    elif m == 11:\n",
    "        sign = \"you are Scorpio\" if (d < 22) else \"you are Sagittarius\"\n",
    "    \n",
    "    elif m == 12:\n",
    "        sign = \"you are Sagittarius\" if (d < 22) else \"you are Capricorn\"\n",
    "         \n",
    "        \n",
    "\n",
    "\n",
    "print(\"you are\"+ str( age ) +\"years old\")\n",
    "\n",
    "print(str(sign))\n",
    "\n",
    "\n",
    "\n",
    "\n",
    "\n"
   ]
  }
 ],
 "metadata": {
  "kernelspec": {
   "display_name": "Python 3 (ipykernel)",
   "language": "python",
   "name": "python3"
  },
  "language_info": {
   "codemirror_mode": {
    "name": "ipython",
    "version": 3
   },
   "file_extension": ".py",
   "mimetype": "text/x-python",
   "name": "python",
   "nbconvert_exporter": "python",
   "pygments_lexer": "ipython3",
   "version": "3.9.12"
  }
 },
 "nbformat": 4,
 "nbformat_minor": 5
}
