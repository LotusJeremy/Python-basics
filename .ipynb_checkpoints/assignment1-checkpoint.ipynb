{
 "cells": [
  {
   "cell_type": "markdown",
   "id": "4be8ac19",
   "metadata": {},
   "source": [
    "  # CALCULATOR #"
   ]
  },
  {
   "cell_type": "code",
   "execution_count": 3,
   "id": "c51c859c",
   "metadata": {},
   "outputs": [
    {
     "name": "stdout",
     "output_type": "stream",
     "text": [
      "enter a number6\n",
      "enter another number3\n",
      "9\n",
      "2.0\n",
      "18\n",
      "3\n"
     ]
    }
   ],
   "source": [
    "x = int(input(\"enter a number\"))\n",
    "y = int(input(\"enter another number\"))\n",
    "A = x+y\n",
    "D = x/y\n",
    "M = x*y\n",
    "S = x-y\n",
    "print(A)\n",
    "print(D)\n",
    "print(M)\n",
    "print(S)"
   ]
  }
 ],
 "metadata": {
  "kernelspec": {
   "display_name": "Python 3 (ipykernel)",
   "language": "python",
   "name": "python3"
  },
  "language_info": {
   "codemirror_mode": {
    "name": "ipython",
    "version": 3
   },
   "file_extension": ".py",
   "mimetype": "text/x-python",
   "name": "python",
   "nbconvert_exporter": "python",
   "pygments_lexer": "ipython3",
   "version": "3.9.12"
  }
 },
 "nbformat": 4,
 "nbformat_minor": 5
}
