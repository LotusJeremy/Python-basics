{
 "cells": [
  {
   "cell_type": "markdown",
   "id": "26f870b8",
   "metadata": {},
   "source": [
    "#DYNAMIC CALCULATOR\n"
   ]
  },
  {
   "cell_type": "code",
   "execution_count": null,
   "id": "8eccc69b",
   "metadata": {},
   "outputs": [
    {
     "name": "stdout",
     "output_type": "stream",
     "text": [
      "enter a number3\n"
     ]
    }
   ],
   "source": [
    "num1 = int(input(\"enter a number\"))\n",
    "sym = input(\"enter a symbol of the operation you want to carry out\")\n",
    "num2 = int(input(\"enter another number\"))\n",
    "\n",
    "if sym == \"+\":\n",
    "    result = num1 + num2\n",
    "\n",
    "elif sym == \"-\":\n",
    "    result = num1 - num2\n",
    "    \n",
    "elif sym == \"/\":\n",
    "     result = num1 / num2\n",
    "    \n",
    "elif sym == \"*\":\n",
    "     result = num1 * num2\n",
    "    \n",
    "print(result)\n"
   ]
  }
 ],
 "metadata": {
  "kernelspec": {
   "display_name": "Python 3 (ipykernel)",
   "language": "python",
   "name": "python3"
  },
  "language_info": {
   "codemirror_mode": {
    "name": "ipython",
    "version": 3
   },
   "file_extension": ".py",
   "mimetype": "text/x-python",
   "name": "python",
   "nbconvert_exporter": "python",
   "pygments_lexer": "ipython3",
   "version": "3.9.12"
  }
 },
 "nbformat": 4,
 "nbformat_minor": 5
}
